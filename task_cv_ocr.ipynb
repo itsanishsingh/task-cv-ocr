{
 "cells": [
  {
   "cell_type": "code",
   "execution_count": 1,
   "metadata": {},
   "outputs": [],
   "source": [
    "from PIL import Image\n",
    "import cv2\n",
    "import pytesseract\n",
    "from pytesseract import image_to_string"
   ]
  },
  {
   "cell_type": "code",
   "execution_count": 2,
   "metadata": {},
   "outputs": [
    {
     "name": "stdout",
     "output_type": "stream",
     "text": [
      "A short story is a brief work of prose fiction. It has a plot\n",
      "which may be comic, tragic, romantic or satiric; the story\n",
      "is presented to us from one of the many available points of\n",
      "view, and it may be written in the mode of fantasy, realism\n",
      "or naturalism.\n",
      "\n",
      "In the ‘story of incident’ the focus of interest is on the course\n",
      "and outcome of events, as in the Sherlock Holmes story.\n",
      "‘The ‘story of character’ focuses on the state of mind and\n",
      "motivation, or on the psychological and moral qualities of\n",
      "the protagonist, as in Glory at Twilight. Chekov’s The Lament\n",
      "focuses on form—nothing happens, or seems to happen,\n",
      "except an encounter and conversations, but the story\n",
      "becomes a revelation of deep sorrow.\n",
      "\n",
      "‘The short story differs from the novel in magnitude. The\n",
      "limitation of length imposes economy of management and\n",
      "in literary effects. However, a short story can also attain a\n",
      "fairly long and complex form, where it approaches the\n",
      "expansiveness of the novel, which you may find in The\n",
      "‘Third and Final Continent in this unit.\n",
      "\n"
     ]
    }
   ],
   "source": [
    "img = Image.open(\"data/pg_1.png\")\n",
    "ocr_result = image_to_string(img)\n",
    "print(ocr_result)"
   ]
  },
  {
   "cell_type": "code",
   "execution_count": null,
   "metadata": {},
   "outputs": [],
   "source": []
  }
 ],
 "metadata": {
  "kernelspec": {
   "display_name": "base",
   "language": "python",
   "name": "python3"
  },
  "language_info": {
   "codemirror_mode": {
    "name": "ipython",
    "version": 3
   },
   "file_extension": ".py",
   "mimetype": "text/x-python",
   "name": "python",
   "nbconvert_exporter": "python",
   "pygments_lexer": "ipython3",
   "version": "3.12.7"
  }
 },
 "nbformat": 4,
 "nbformat_minor": 2
}
